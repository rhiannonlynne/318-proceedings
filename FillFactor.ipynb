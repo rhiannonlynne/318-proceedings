{
 "cells": [
  {
   "cell_type": "markdown",
   "metadata": {},
   "source": [
    "## Calculate the fill factor for an LSST field of view.\n",
    "\n",
    "Uses the camera geometry that is intended to represent the actual focal plane (or at least, one vendor's version of the focal plane geometry). \n"
   ]
  },
  {
   "cell_type": "code",
   "execution_count": 1,
   "metadata": {
    "collapsed": false
   },
   "outputs": [],
   "source": [
    "import numpy as np\n",
    "import matplotlib.pyplot as plt\n",
    "%matplotlib inline\n",
    "import itertools\n",
    "\n",
    "# For the footprint generation and conversion between galactic/equatorial coordinates.\n",
    "from lsst.sims.utils import haversine, ObservationMetaData\n",
    "from lsst.obs.lsstSim import LsstSimMapper\n",
    "from lsst.sims.coordUtils import chipNameFromPupilCoords\n",
    "\n",
    "import lsst.sims.utils as sims_utils\n",
    "\n",
    "mapper = LsstSimMapper()\n",
    "camera = mapper.camera\n",
    "epoch = 2000.0\n",
    "site = sims_utils.Site()"
   ]
  },
  {
   "cell_type": "code",
   "execution_count": 8,
   "metadata": {
    "collapsed": false
   },
   "outputs": [],
   "source": [
    "# Set up pupil coordinate points to iterate over (to calculate fill factor)\n",
    "testrange = 2.2\n",
    "spacing = 0.01\n",
    "xcen = 0\n",
    "ycen = 0\n",
    "xi = np.arange(xcen-np.radians(testrange), xcen+np.radians(testrange), np.radians(spacing))\n",
    "yi = np.arange(ycen-np.radians(testrange), ycen+np.radians(testrange), np.radians(spacing))\n",
    "x = []\n",
    "y = []\n",
    "for i in itertools.product(xi, yi):\n",
    "    x.append(i[0])\n",
    "    y.append(i[1])\n",
    "x = np.array(x)\n",
    "y = np.array(y)"
   ]
  },
  {
   "cell_type": "code",
   "execution_count": 3,
   "metadata": {
    "collapsed": false
   },
   "outputs": [],
   "source": [
    "# Calculate 'visibility'\n",
    "chipNames = chipNameFromPupilCoords(x, y, camera=camera)\n",
    "vis = np.zeros(len(chipNames))\n",
    "for i, chip in enumerate(chipNames):\n",
    "    if chip is not None:\n",
    "        vis[i] = 1"
   ]
  },
  {
   "cell_type": "code",
   "execution_count": 4,
   "metadata": {
    "collapsed": false
   },
   "outputs": [
    {
     "name": "stdout",
     "output_type": "stream",
     "text": [
      "[ 0.03054326] [ 0.03054326] [ 0.03055276] [ 0.03056702]\n"
     ]
    }
   ],
   "source": [
    "# Confirm pupil coordinates are basically just the same as ra/dec offsets from boresight\n",
    "import palpy \n",
    "ra = np.array([np.radians(1.75)])\n",
    "dec = np.array([np.radians(1.75)])\n",
    "xp, yp = palpy.ds2tpVector(ra, dec, 0, 0)\n",
    "print ra, dec, xp, yp"
   ]
  },
  {
   "cell_type": "code",
   "execution_count": 5,
   "metadata": {
    "collapsed": false
   },
   "outputs": [
    {
     "name": "stdout",
     "output_type": "stream",
     "text": [
      "inner radius matching area_degsq for circle 1.74807748895\n",
      "max distance from center used for chip calculation 3.11088748063\n",
      "fill factor 0.895371730367\n",
      "inner radius matching area_degsq for circle 1.75\n",
      "max distance from center used for chip calculation 3.11088748063\n",
      "fill factor 0.895267496128\n",
      "outer radius 2.06\n",
      "max distance from center used for chip calculation 3.11088748063\n",
      "fill factor 0.717074122139\n"
     ]
    }
   ],
   "source": [
    "# Calculate % fill factor, for a particular assumed (circular) fov\n",
    "area_degsq = 9.6\n",
    "innerradius = np.sqrt(area_degsq/np.pi)\n",
    "print 'inner radius matching area_degsq for circle', innerradius\n",
    "sep = np.degrees(sims_utils.haversine(x, y, xcen, ycen))\n",
    "print 'max distance from center used for chip calculation', sep.max()\n",
    "incircle = np.where(sep < innerradius)[0]\n",
    "onchip = np.where(vis[incircle] == 1)[0]\n",
    "fillfactor = len(vis[onchip]) / float(len(vis[incircle]))\n",
    "print 'fill factor', fillfactor\n",
    "\n",
    "area_degsq = 9.6\n",
    "innerradius2 = 1.75\n",
    "print 'inner radius matching area_degsq for circle', innerradius2\n",
    "sep = np.degrees(sims_utils.haversine(x, y, xcen, ycen))\n",
    "print 'max distance from center used for chip calculation', sep.max()\n",
    "incircle = np.where(sep < innerradius2)[0]\n",
    "onchip = np.where(vis[incircle] == 1)[0]\n",
    "fillfactor = len(vis[onchip]) / float(len(vis[incircle]))\n",
    "print 'fill factor', fillfactor\n",
    "\n",
    "outerradius = 2.06\n",
    "print 'outer radius', outerradius\n",
    "sep = np.degrees(sims_utils.haversine(x, y, xcen, ycen))\n",
    "print 'max distance from center used for chip calculation', sep.max()\n",
    "incircle = np.where(sep < outerradius)[0]\n",
    "onchip = np.where(vis[incircle] == 1)[0]\n",
    "fillfactor = len(vis[onchip]) / float(len(vis[incircle]))\n",
    "print 'fill factor', fillfactor"
   ]
  },
  {
   "cell_type": "code",
   "execution_count": 10,
   "metadata": {
    "collapsed": false,
    "scrolled": false
   },
   "outputs": [
    {
     "data": {
      "image/png": "[encoded data removed]",
      "text/plain": [
       "<matplotlib.figure.Figure at 0x11a01c190>"
      ]
     },
     "metadata": {},
     "output_type": "display_data"
    }
   ],
   "source": [
    "# Plot results.\n",
    "plt.figure()\n",
    "plt.axis('equal')\n",
    "condition = np.where(vis == 1)[0]\n",
    "#plt.plot(np.degrees(x), np.degrees(y), 'g.', markersize=0.2)\n",
    "plt.plot(np.degrees(x[condition]), np.degrees(y[condition]), 'b.', markersize=0.3)\n",
    "plt.plot(0, 0, 'r.')\n",
    "plt.xlabel('x Pupil (deg)')\n",
    "plt.ylabel('y Pupil (deg))')\n",
    "theta = np.arange(0, 2*np.pi, 0.01)\n",
    "plt.plot(innerradius*np.cos(theta)+np.degrees(xcen), innerradius*np.sin(theta)+np.degrees(ycen), 'r-')\n",
    "plt.plot(outerradius*np.cos(theta)+np.degrees(xcen), outerradius*np.sin(theta)+np.degrees(ycen), 'r:')\n",
    "#plt.xlim(fieldra+offset-sep.max()/2.0, fieldra+offset+sep.max()/2.0)\n",
    "plt.ylim(np.degrees(xcen)-sep.max()*.7, np.degrees(ycen)+sep.max()*.7)\n",
    "xco = 0.74\n",
    "plt.figtext(xco, 0.8, 'Inner circle')\n",
    "plt.figtext(xco, 0.75, r' r=1.75$^\\circ$')\n",
    "plt.figtext(xco, 0.7, ' 90%s fill factor' %('%'))\n",
    "plt.figtext(xco, 0.6, 'Outer circle')\n",
    "plt.figtext(xco, 0.55, r' r=2.06$^\\circ$')\n",
    "#plt.figtext(xco, 0.5, ' 71%s fill factor' %('%'))\n",
    "plt.savefig('focalplane.png', format='png', dpi=600)"
   ]
  },
  {
   "cell_type": "code",
   "execution_count": 13,
   "metadata": {
    "collapsed": false
   },
   "outputs": [],
   "source": [
    "# And zoom in even more, to check raft/ccd spacing. \n",
    "testrange = 2.0\n",
    "spacing = 0.00005\n",
    "xi = np.arange(xcen - np.radians(testrange),\n",
    "                xcen + np.radians(testrange), np.radians(spacing))\n",
    "yi = np.zeros(len(xi)) + ycen\n",
    "\n",
    "# Calculate 'visibility'\n",
    "chipNames = chipNameFromPupilCoords(xi, yi, camera=camera)\n",
    "vis = np.zeros(len(chipNames))\n",
    "for i, chip in enumerate(chipNames):\n",
    "    if chip is not None:\n",
    "        vis[i] = 1"
   ]
  },
  {
   "cell_type": "code",
   "execution_count": 14,
   "metadata": {
    "collapsed": false
   },
   "outputs": [
    {
     "name": "stdout",
     "output_type": "stream",
     "text": [
      "[ 798.3    43.92  798.66   46.08  799.02   50.04  799.38   43.92  799.74\n",
      "   44.82  799.92   50.22  799.92   44.82  799.92   44.64  800.1    51.12\n",
      "  799.92   44.1   799.56   44.46  799.38   49.68  799.02   45.36  798.66\n",
      "   44.1   798.12]\n"
     ]
    },
    {
     "data": {
      "image/png": "[encoded data removed]",
      "text/plain": [
       "<matplotlib.figure.Figure at 0x123e71e50>"
      ]
     },
     "metadata": {},
     "output_type": "display_data"
    }
   ],
   "source": [
    "plt.plot(xi, vis)\n",
    "condition = np.where(np.diff(vis) != 0)[0]\n",
    "print np.diff(np.degrees(xi[condition])*60.*60.)"
   ]
  },
  {
   "cell_type": "code",
   "execution_count": 15,
   "metadata": {
    "collapsed": true
   },
   "outputs": [],
   "source": [
    "# And zoom in even more, to check raft/ccd spacing. \n",
    "testrange = 2.0\n",
    "spacing = 0.00005\n",
    "yi = np.arange(ycen - np.radians(testrange),\n",
    "                ycen + np.radians(testrange), np.radians(spacing))\n",
    "xi = np.zeros(len(yi)) + xcen\n",
    "\n",
    "# Calculate 'visibility'\n",
    "chipNames = chipNameFromPupilCoords(xi, yi, camera=camera)\n",
    "vis = np.zeros(len(chipNames))\n",
    "for i, chip in enumerate(chipNames):\n",
    "    if chip is not None:\n",
    "        vis[i] = 1"
   ]
  },
  {
   "cell_type": "code",
   "execution_count": 16,
   "metadata": {
    "collapsed": false
   },
   "outputs": [
    {
     "name": "stdout",
     "output_type": "stream",
     "text": [
      "[ 812.52   30.42  813.06   30.24  813.42   34.74  813.78   31.86  813.96\n",
      "   30.96  814.32   33.48  814.32   32.04  814.5    29.52  814.32   36.54\n",
      "  814.32   30.78  814.14   28.8   813.78   37.26  813.42   29.52  813.06\n",
      "   31.32  812.7 ]\n"
     ]
    },
    {
     "data": {
      "image/png": "[encoded data removed]",
      "text/plain": [
       "<matplotlib.figure.Figure at 0x11bf8c690>"
      ]
     },
     "metadata": {},
     "output_type": "display_data"
    }
   ],
   "source": [
    "plt.plot(yi, vis)\n",
    "condition = np.where(np.diff(vis) != 0)[0]\n",
    "print np.diff(np.degrees(yi[condition])*60.*60.)"
   ]
  },
  {
   "cell_type": "code",
   "execution_count": null,
   "metadata": {
    "collapsed": true
   },
   "outputs": [],
   "source": []
  }
 ],
 "metadata": {
  "kernelspec": {
   "display_name": "Python 2",
   "language": "python",
   "name": "python2"
  },
  "language_info": {
   "codemirror_mode": {
    "name": "ipython",
    "version": 2
   },
   "file_extension": ".py",
   "mimetype": "text/x-python",
   "name": "python",
   "nbconvert_exporter": "python",
   "pygments_lexer": "ipython2",
   "version": "2.7.10"
  }
 },
 "nbformat": 4,
 "nbformat_minor": 0
}
